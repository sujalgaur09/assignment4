{
 "cells": [
  {
   "cell_type": "code",
   "execution_count": 1,
   "id": "609a774b-4c9a-42fc-8af1-6c348203c9e1",
   "metadata": {},
   "outputs": [
    {
     "name": "stdout",
     "output_type": "stream",
     "text": [
      "ANSWER1\n"
     ]
    }
   ],
   "source": [
    "print(\"ANSWER1\")"
   ]
  },
  {
   "cell_type": "code",
   "execution_count": 3,
   "id": "13076f23-d214-4602-acd7-5ce88823d497",
   "metadata": {},
   "outputs": [
    {
     "name": "stdout",
     "output_type": "stream",
     "text": [
      "ABSTRACTION IN OOP\n",
      " abstraction is used to hide the irrelevant data/class in order to reduce the complexity. It also enhances the application efficiency. \n",
      " Abstraction means displaying only essential information and hiding the details. Data abstraction refers to providing only essential information about the data to the outside world, hiding the background details or implementation.\n"
     ]
    }
   ],
   "source": [
    "print(\"\"\"ABSTRACTION IN OOP\n",
    " abstraction is used to hide the irrelevant data/class in order to reduce the complexity. It also enhances the application efficiency. \n",
    " Abstraction means displaying only essential information and hiding the details. Data abstraction refers to providing only essential information about the data to the outside world, hiding the background details or implementation.\"\"\")"
   ]
  },
  {
   "cell_type": "code",
   "execution_count": 9,
   "id": "5406e553-6353-40d7-82a1-d116526ac5e2",
   "metadata": {},
   "outputs": [],
   "source": [
    "#example\n",
    "from abc import ABC, abstractmethod   \n",
    "class Car(ABC):   \n",
    "    def mileage(self):   \n",
    "        pass  \n",
    "  \n",
    " \n",
    "class Tesla(Car):   \n",
    "    def mileage(self):   \n",
    "        print(\"The mileage is 30kmph\")   \n",
    "class Suzuki(Car):   \n",
    "    def mileage(self):   \n",
    "        print(\"The mileage is 25kmph \")   \n",
    "class Duster(Car):   \n",
    "     def mileage(self):   \n",
    "          print(\"The mileage is 24kmph \")   \n",
    "\n",
    "        \n",
    "class Renault(Car):   \n",
    "    def mileage(self):   \n",
    "            print(\"The mileage is 27kmph \")   \n",
    "            \n",
    "    "
   ]
  },
  {
   "cell_type": "code",
   "execution_count": 10,
   "id": "a44ef69a-1970-4adc-bbf6-18167eb1e0a7",
   "metadata": {},
   "outputs": [],
   "source": [
    "t=Tesla()\n",
    "r=Renault()\n",
    "s=Suzuki()\n",
    "d=Duster()"
   ]
  },
  {
   "cell_type": "code",
   "execution_count": 12,
   "id": "11381ce2-a682-4bb8-929d-4e8d8e119d17",
   "metadata": {},
   "outputs": [
    {
     "name": "stdout",
     "output_type": "stream",
     "text": [
      "The mileage is 30kmph\n"
     ]
    }
   ],
   "source": [
    "t.mileage()"
   ]
  },
  {
   "cell_type": "code",
   "execution_count": 13,
   "id": "2d608b61-9dde-4a5a-acfe-093e24492831",
   "metadata": {},
   "outputs": [
    {
     "name": "stdout",
     "output_type": "stream",
     "text": [
      "The mileage is 27kmph \n"
     ]
    }
   ],
   "source": [
    "r.mileage()"
   ]
  },
  {
   "cell_type": "code",
   "execution_count": 14,
   "id": "c7621062-eae5-4abd-a1d3-d6d1d1b44bd2",
   "metadata": {},
   "outputs": [
    {
     "name": "stdout",
     "output_type": "stream",
     "text": [
      "The mileage is 25kmph \n"
     ]
    }
   ],
   "source": [
    "s.mileage()"
   ]
  },
  {
   "cell_type": "code",
   "execution_count": 15,
   "id": "26af4d5e-5e6f-4ebe-a3c6-64e9481f4b0e",
   "metadata": {},
   "outputs": [
    {
     "name": "stdout",
     "output_type": "stream",
     "text": [
      "The mileage is 24kmph \n"
     ]
    }
   ],
   "source": [
    "d.mileage()"
   ]
  },
  {
   "cell_type": "code",
   "execution_count": 16,
   "id": "69c45b39-20d8-497d-8874-c802080ba653",
   "metadata": {},
   "outputs": [
    {
     "name": "stdout",
     "output_type": "stream",
     "text": [
      "ANSWER2\n"
     ]
    }
   ],
   "source": [
    "print(\"ANSWER2\")"
   ]
  },
  {
   "cell_type": "code",
   "execution_count": 17,
   "id": "97f4c56d-edd3-44fa-b817-7a2da4db3082",
   "metadata": {},
   "outputs": [
    {
     "name": "stdout",
     "output_type": "stream",
     "text": [
      "\n",
      "ABSTRACTION=\n",
      "Abstraction is a process of hiding unnecessary data and showing only relevant data. Out of an ocean of data, we are only maintaining the transparency of some data to the user. This important concept in object-oriented programming will reduce the complexity of the code and increases the readability.\n",
      "Abstraction is a design level process.\n",
      "ENCAPSULATION=\n",
      "Encapsulation is binding the data members with member variables. This will avoid the direct access of variables, because direct access of variables may violate privacy, and hiding of the implementation will not be possible.\n",
      "Encapsulation works like a protective wrapper that conceals the code and data within the class.\n",
      "Encapsulation is an implementation level process.\n",
      "\n"
     ]
    }
   ],
   "source": [
    "print(\"\"\"\n",
    "ABSTRACTION=\n",
    "Abstraction is a process of hiding unnecessary data and showing only relevant data. Out of an ocean of data, we are only maintaining the transparency of some data to the user. This important concept in object-oriented programming will reduce the complexity of the code and increases the readability.\n",
    "Abstraction is a design level process.\n",
    "ENCAPSULATION=\n",
    "Encapsulation is binding the data members with member variables. This will avoid the direct access of variables, because direct access of variables may violate privacy, and hiding of the implementation will not be possible.\n",
    "Encapsulation works like a protective wrapper that conceals the code and data within the class.\n",
    "Encapsulation is an implementation level process.\n",
    "\"\"\")"
   ]
  },
  {
   "cell_type": "code",
   "execution_count": 39,
   "id": "eccb5181-9b68-44b0-a664-e2032ae85f8f",
   "metadata": {},
   "outputs": [],
   "source": [
    "#example of encapsulation\n",
    "class car :\n",
    "    def __init__(self ,year , colour , speed ):\n",
    "        self.__year = year\n",
    "        self.__colour = colour\n",
    "        self.speed = speed\n",
    "##here year and colour has been encapsulate and speed is not capsulated\n",
    "        "
   ]
  },
  {
   "cell_type": "code",
   "execution_count": 40,
   "id": "2083f1ba-8185-4ff7-b3af-fd0fde52e5d4",
   "metadata": {},
   "outputs": [],
   "source": [
    "c = car(2020 , \"black\" ,180)"
   ]
  },
  {
   "cell_type": "code",
   "execution_count": 41,
   "id": "bfe1a984-c018-44a8-b8c5-f820bfd6a7e1",
   "metadata": {},
   "outputs": [
    {
     "ename": "AttributeError",
     "evalue": "'car' object has no attribute 'year'",
     "output_type": "error",
     "traceback": [
      "\u001b[0;31m---------------------------------------------------------------------------\u001b[0m",
      "\u001b[0;31mAttributeError\u001b[0m                            Traceback (most recent call last)",
      "Cell \u001b[0;32mIn[41], line 1\u001b[0m\n\u001b[0;32m----> 1\u001b[0m \u001b[43mc\u001b[49m\u001b[38;5;241;43m.\u001b[39;49m\u001b[43myear\u001b[49m\n",
      "\u001b[0;31mAttributeError\u001b[0m: 'car' object has no attribute 'year'"
     ]
    }
   ],
   "source": [
    "c.year"
   ]
  },
  {
   "cell_type": "code",
   "execution_count": 42,
   "id": "efce5cbd-b34b-4cd6-93ba-3648036bfcc0",
   "metadata": {},
   "outputs": [
    {
     "data": {
      "text/plain": [
       "180"
      ]
     },
     "execution_count": 42,
     "metadata": {},
     "output_type": "execute_result"
    }
   ],
   "source": [
    "c.speed"
   ]
  },
  {
   "cell_type": "code",
   "execution_count": null,
   "id": "88e70a0e-5678-49ca-a937-a9cfa1afc806",
   "metadata": {},
   "outputs": [],
   "source": []
  },
  {
   "cell_type": "code",
   "execution_count": 58,
   "id": "0ed54f18-4a8f-4201-ba8a-0c12e173a904",
   "metadata": {},
   "outputs": [],
   "source": [
    "#example of abstraction method \n",
    "from abc import ABC, abstractmethod   \n",
    "class Car(ABC):   \n",
    "    def color(self):   \n",
    "        pass  \n",
    "  \n",
    " \n",
    "class Tesla(Car):   \n",
    "    def color(self):   \n",
    "        print(\"The color is red\")   \n",
    "class Suzuki(Car):   \n",
    "    def colour(self):   \n",
    "        print(\"The color is black \")   \n",
    "class Duster(Car):   \n",
    "     def colour(self):   \n",
    "          print(\"The color is blue \")   \n",
    "\n",
    "        \n",
    "class Renault(Car):   \n",
    "    def color(self):   \n",
    "            print(\"The color is yellow\")   \n",
    "            \n",
    "    "
   ]
  },
  {
   "cell_type": "code",
   "execution_count": null,
   "id": "55abdcb1-6ade-4d50-b7ec-a60890a19bd2",
   "metadata": {},
   "outputs": [],
   "source": []
  },
  {
   "cell_type": "code",
   "execution_count": 59,
   "id": "c3ad949e-064c-496d-a474-7e088d77b0d3",
   "metadata": {},
   "outputs": [],
   "source": [
    "t=Tesla()\n",
    "r=Renault()\n",
    "s=Suzuki()\n",
    "d=Duster()"
   ]
  },
  {
   "cell_type": "code",
   "execution_count": 60,
   "id": "c94ac7f7-64f4-43af-b237-48141e8fa891",
   "metadata": {},
   "outputs": [
    {
     "name": "stdout",
     "output_type": "stream",
     "text": [
      "The color is red\n"
     ]
    }
   ],
   "source": [
    "t.color()"
   ]
  },
  {
   "cell_type": "code",
   "execution_count": 61,
   "id": "5b88ee2c-2ecd-4cc4-8394-a7644f6e6808",
   "metadata": {},
   "outputs": [
    {
     "name": "stdout",
     "output_type": "stream",
     "text": [
      "The color is yellow\n"
     ]
    }
   ],
   "source": [
    "r.color()"
   ]
  },
  {
   "cell_type": "code",
   "execution_count": 62,
   "id": "156cdcf0-84c4-4a09-bdbd-49377b360c60",
   "metadata": {},
   "outputs": [
    {
     "name": "stdout",
     "output_type": "stream",
     "text": [
      "ANSWER3\n"
     ]
    }
   ],
   "source": [
    "print(\"ANSWER3\")"
   ]
  },
  {
   "cell_type": "code",
   "execution_count": 65,
   "id": "cada13be-6035-42c0-9d8c-d611a919ba1f",
   "metadata": {},
   "outputs": [
    {
     "name": "stdout",
     "output_type": "stream",
     "text": [
      "ABC = abstract base classes\n",
      "A class is called an Abstract class if it contains one or more abstract methods. An abstract method is a method that is declared, but contains no implementation. Abstract classes may not be instantiated, and its abstract methods must be implemented by its subclasses.\n",
      "'abc' works by marking methods of the base class as abstract. This is done by @absttractmethod decorator. A concrete class which is a sub class of such abstract base class then implements the abstract base by overriding its abstract methods.\n",
      " Python on its own doesn't provide abstract classes. Yet, Python comes with a module which provides the infrastructure for defining Abstract Base Classes (ABCs).\n",
      " Abstract class cannot be instantiated in python. An Abstract method can be call by its subclasses.\n",
      "\n",
      "The above module provides us the following,\n",
      "\n",
      "1.ABCMeta\n",
      "2.ABC ( helper class )\n",
      "these are keywords used to create an abstract class.\n",
      "\n",
      "ABCMeta:\n",
      "It is a metaclass for defining the abstract class.\n",
      "ABC:\n",
      "It is a helper class. we can use it in the area where we want to avoid the confusion of metaclass usage.\n",
      " \n",
      " we use it for larger projects, it is impossible to remember the class details, and also the reusability of code can increase the bug. Therefore, it plays a crucial role in our projects.\n",
      "\n",
      "\n",
      "\n",
      "\n"
     ]
    }
   ],
   "source": [
    "print(\"\"\"ABC = abstract base classes\n",
    "A class is called an Abstract class if it contains one or more abstract methods. An abstract method is a method that is declared, but contains no implementation. Abstract classes may not be instantiated, and its abstract methods must be implemented by its subclasses.\n",
    "'abc' works by marking methods of the base class as abstract. This is done by @absttractmethod decorator. A concrete class which is a sub class of such abstract base class then implements the abstract base by overriding its abstract methods.\n",
    " Python on its own doesn't provide abstract classes. Yet, Python comes with a module which provides the infrastructure for defining Abstract Base Classes (ABCs).\n",
    " Abstract class cannot be instantiated in python. An Abstract method can be call by its subclasses.\n",
    "\n",
    "The above module provides us the following,\n",
    "\n",
    "1.ABCMeta\n",
    "2.ABC ( helper class )\n",
    "these are keywords used to create an abstract class.\n",
    "\n",
    "ABCMeta:\n",
    "It is a metaclass for defining the abstract class.\n",
    "ABC:\n",
    "It is a helper class. we can use it in the area where we want to avoid the confusion of metaclass usage.\n",
    " \n",
    " we use it for larger projects, it is impossible to remember the class details, and also the reusability of code can increase the bug. Therefore, it plays a crucial role in our projects.\n",
    "\n",
    "\n",
    "\n",
    "\"\"\")"
   ]
  },
  {
   "cell_type": "code",
   "execution_count": 70,
   "id": "c69bb6ad-4bfa-4102-8de3-7463e0067d0b",
   "metadata": {},
   "outputs": [
    {
     "name": "stdout",
     "output_type": "stream",
     "text": [
      "\n",
      "ANSWER4 )\n",
      "abstraction can be achieved by having/using abstract classes and methods in our programs.\n",
      "\n",
      "Abstract Methods and Classes\n",
      "An abstract method is a method that is declared, but does not contain implementation. An abstract method in a base class identifies the functionality that should be implemented by all its subclasses. However, since the implementation of an abstract method would differ from one subclass to another, often the method body comprises just a pass statement. Every subclass of the base class will ride this method with its implementation. A class containing abstract methods is called abstract class.Python provides the abc module to use the abstraction in the Python program, syntax as:\n",
      "\n",
      "1)from abc import ABC,   \n",
      "2)class ClassName(ABC):print(\"abstraction can be achieved by having/using abstract classes and methods in our programs\").\n",
      "\n"
     ]
    }
   ],
   "source": [
    "print(\"\"\"\n",
    "ANSWER4 )\n",
    "abstraction can be achieved by having/using abstract classes and methods in our programs.\n",
    "\n",
    "Abstract Methods and Classes\n",
    "An abstract method is a method that is declared, but does not contain implementation. An abstract method in a base class identifies the functionality that should be implemented by all its subclasses. However, since the implementation of an abstract method would differ from one subclass to another, often the method body comprises just a pass statement. Every subclass of the base class will ride this method with its implementation. A class containing abstract methods is called abstract class.Python provides the abc module to use the abstraction in the Python program, syntax as:\n",
    "\n",
    "1)from abc import ABC,   \n",
    "2)class ClassName(ABC):print(\"abstraction can be achieved by having/using abstract classes and methods in our programs\").\n",
    "\"\"\")"
   ]
  },
  {
   "cell_type": "code",
   "execution_count": 71,
   "id": "0a568fc8-8e17-4344-a097-f910e455a77e",
   "metadata": {},
   "outputs": [
    {
     "name": "stdout",
     "output_type": "stream",
     "text": [
      "\n",
      "ANSWER5\n",
      "no , we cannot create an instance of an abstract class as it does not have any complete implementation An abstract class acts like a template or an empty structure. For an abstract class in the OOP , we cannot instantiate it.\n",
      " Its purpose is to define how other classes should look like, i.e. what methods and properties they are expected to have.\n",
      "\n"
     ]
    }
   ],
   "source": [
    "print(\"\"\"\n",
    "ANSWER5\n",
    "no , we cannot create an instance of an abstract class as it does not have any complete implementation An abstract class acts like a template or an empty structure. For an abstract class in the OOP , we cannot instantiate it.\n",
    " Its purpose is to define how other classes should look like, i.e. what methods and properties they are expected to have.\n",
    "\"\"\")"
   ]
  },
  {
   "cell_type": "code",
   "execution_count": null,
   "id": "7d4ff646-4865-40f9-8250-326f3f677243",
   "metadata": {},
   "outputs": [],
   "source": []
  }
 ],
 "metadata": {
  "kernelspec": {
   "display_name": "Python 3 (ipykernel)",
   "language": "python",
   "name": "python3"
  },
  "language_info": {
   "codemirror_mode": {
    "name": "ipython",
    "version": 3
   },
   "file_extension": ".py",
   "mimetype": "text/x-python",
   "name": "python",
   "nbconvert_exporter": "python",
   "pygments_lexer": "ipython3",
   "version": "3.10.8"
  }
 },
 "nbformat": 4,
 "nbformat_minor": 5
}
